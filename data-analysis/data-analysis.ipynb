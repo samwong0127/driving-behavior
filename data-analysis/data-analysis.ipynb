{
 "cells": [
  {
   "cell_type": "code",
   "execution_count": 1,
   "id": "d59363e0-3da3-423e-8af4-61e7c8b1a846",
   "metadata": {},
   "outputs": [],
   "source": [
    "import pyspark.sql.types as t\n",
    "\n",
    "schema = t.StructType([\n",
    "    t.StructField('driverID', t.StringType(), False),\n",
    "    t.StructField('carPlateNumber', t.StringType(), False),\n",
    "    t.StructField('Latitude', t.DoubleType(), False),\n",
    "    t.StructField('Longtitude', t.DoubleType(), False),\n",
    "    t.StructField('Speed', t.IntegerType(), False),\n",
    "    t.StructField('Direction', t.IntegerType(), True),\n",
    "    t.StructField('siteName', t.StringType(), True),\n",
    "    t.StructField('Time', t.TimestampType(), False),\n",
    "    t.StructField('isRapidlySpeedup', t.ByteType(), True),\n",
    "    t.StructField('isRapidlySlowdown', t.ByteType(), True),\n",
    "    t.StructField('isNeutralSlide', t.ByteType(), True),\n",
    "    t.StructField('isNeutralSlideFinished', t.ByteType(), True),\n",
    "    t.StructField('neutralSlideTime', t.IntegerType(), True),\n",
    "    t.StructField('isOverspeed', t.ByteType(), True),\n",
    "    t.StructField('isOverspeedFinished', t.ByteType(), True),\n",
    "    t.StructField('overspeedTime', t.IntegerType(), True),\n",
    "    t.StructField('isFatigueDriving', t.ByteType(), True),\n",
    "    t.StructField('isHthrottleStop', t.ByteType(), True),\n",
    "    t.StructField('isOilLeak', t.ByteType(), True),\n",
    "])"
   ]
  },
  {
   "cell_type": "code",
   "execution_count": 2,
   "id": "0f96a633",
   "metadata": {
    "collapsed": false,
    "jupyter": {
     "outputs_hidden": false
    },
    "pycharm": {
     "name": "#%%\n"
    }
   },
   "outputs": [],
   "source": [
    "from pyspark import SparkContext\n",
    "from pyspark.sql import SparkSession\n",
    "\n",
    "spark = SparkSession.builder.master(\"local[*]\").getOrCreate()\n",
    "sc = SparkContext.getOrCreate()"
   ]
  },
  {
   "cell_type": "code",
   "execution_count": 12,
   "id": "980cd2aa",
   "metadata": {
    "collapsed": false,
    "jupyter": {
     "outputs_hidden": false
    },
    "pycharm": {
     "name": "#%%\n"
    }
   },
   "outputs": [
    {
     "data": {
      "text/plain": "413450"
     },
     "execution_count": 12,
     "metadata": {},
     "output_type": "execute_result"
    }
   ],
   "source": [
    "df = spark.read.csv('./detail-records', schema=schema)\n",
    "\n",
    "df.count()"
   ]
  },
  {
   "cell_type": "code",
   "execution_count": 4,
   "id": "d4d5414c",
   "metadata": {
    "collapsed": false,
    "jupyter": {
     "outputs_hidden": false
    },
    "pycharm": {
     "name": "#%%\n"
    }
   },
   "outputs": [
    {
     "name": "stdout",
     "output_type": "stream",
     "text": [
      "+-------------+--------------+---------+----------+-----+---------+--------+-------------------+----------------+-----------------+--------------+----------------------+----------------+-----------+-------------------+-------------+----------------+---------------+---------+\n",
      "|     driverID|carPlateNumber| Latitude|Longtitude|Speed|Direction|siteName|               Time|isRapidlySpeedup|isRapidlySlowdown|isNeutralSlide|isNeutralSlideFinished|neutralSlideTime|isOverspeed|isOverspeedFinished|overspeedTime|isFatigueDriving|isHthrottleStop|isOilLeak|\n",
      "+-------------+--------------+---------+----------+-----+---------+--------+-------------------+----------------+-----------------+--------------+----------------------+----------------+-----------+-------------------+-------------+----------------+---------------+---------+\n",
      "|haowei1000008|      华A709GB|38.503856|106.209375|  102|       66|    null|2017-01-02 16:00:10|            null|             null|          null|                  null|            null|       null|               null|         null|            null|           null|     null|\n",
      "|hanhui1000002|      华AZI419|31.248541| 121.48616|   65|      250|    null|2017-01-02 16:00:10|            null|             null|          null|                  null|            null|       null|               null|         null|            null|           null|     null|\n",
      "|haowei1000008|      华A709GB|38.504898|106.211818|   86|       66|    null|2017-01-02 16:00:20|            null|             null|          null|                  null|            null|       null|               null|         null|            null|           null|     null|\n",
      "|hanhui1000002|      华AZI419|31.247819|121.484134|   76|      250|    null|2017-01-02 16:00:20|            null|             null|          null|                  null|            null|       null|               null|         null|            null|           null|     null|\n",
      "|haowei1000008|      华A709GB|38.505692|106.213681|   65|       66|    null|2017-01-02 16:00:30|            null|             null|          null|                  null|            null|       null|               null|         null|            null|           null|     null|\n",
      "|hanhui1000002|      华AZI419|31.247118|121.482172|   73|      250|    null|2017-01-02 16:00:30|            null|             null|          null|                  null|            null|       null|               null|         null|            null|           null|     null|\n",
      "|haowei1000008|      华A709GB|38.507076|106.216926|  114|       66|    null|2017-01-02 16:00:40|            null|             null|          null|                  null|            null|       null|               null|         null|            null|           null|     null|\n",
      "|hanhui1000002|      华AZI419|31.246486|  121.4804|   66|      250|    null|2017-01-02 16:00:40|            null|             null|          null|                  null|            null|       null|               null|         null|            null|           null|     null|\n",
      "|hanhui1000002|      华AZI419| 31.24635|121.480017|  143|      250|    null|2017-01-02 16:00:41|            null|             null|          null|                  null|            null|          1|               null|         null|            null|           null|     null|\n",
      "|haowei1000008|      华A709GB|38.508345|106.219902|  104|       66|    null|2017-01-02 16:00:50|            null|             null|          null|                  null|            null|       null|               null|         null|            null|           null|     null|\n",
      "|hanhui1000002|      华AZI419|31.245243|121.476916|  129|      250|    null|2017-01-02 16:00:50|            null|             null|          null|                  null|            null|       null|               null|         null|            null|           null|     null|\n",
      "|hanhui1000002|      华AZI419|31.245129|121.476597|  120|      250|    null|2017-01-02 16:00:51|            null|             null|          null|                  null|            null|       null|                  1|           10|            null|           null|     null|\n",
      "|haowei1000008|      华A709GB|38.509506|106.222626|   96|       66|    null|2017-01-02 16:01:00|            null|             null|          null|                  null|            null|       null|               null|         null|            null|           null|     null|\n",
      "|hanhui1000002|      华AZI419|31.244415|121.474596|   83|      250|    null|2017-01-02 16:01:00|            null|             null|          null|                  null|            null|       null|               null|         null|            null|           null|     null|\n",
      "|hanhui1000002|      华AZI419|31.243648|121.472446|  115|      250|    null|2017-01-02 16:01:07|            null|                1|          null|                  null|            null|       null|               null|         null|            null|           null|     null|\n",
      "|haowei1000008|      华A709GB|  38.5106|106.225192|   90|       66|    null|2017-01-02 16:01:10|            null|             null|          null|                  null|            null|       null|               null|         null|            null|           null|     null|\n",
      "|hanhui1000002|      华AZI419|31.243399|121.471748|   87|      250|    null|2017-01-02 16:01:10|            null|             null|          null|                  null|            null|       null|               null|         null|            null|           null|     null|\n",
      "|haowei1000008|      华A709GB|38.511767|106.227929|   96|       66|    null|2017-01-02 16:01:20|            null|             null|          null|                  null|            null|       null|               null|         null|            null|           null|     null|\n",
      "|hanhui1000002|      华AZI419|31.242456|121.469104|   99|      250|    null|2017-01-02 16:01:20|            null|             null|          null|                  null|            null|       null|               null|         null|            null|           null|     null|\n",
      "|haowei1000008|      华A709GB|38.512612|106.229909|   69|       66|    null|2017-01-02 16:01:30|            null|             null|          null|                  null|            null|       null|               null|         null|            null|           null|     null|\n",
      "+-------------+--------------+---------+----------+-----+---------+--------+-------------------+----------------+-----------------+--------------+----------------------+----------------+-----------+-------------------+-------------+----------------+---------------+---------+\n",
      "only showing top 20 rows\n",
      "\n"
     ]
    }
   ],
   "source": [
    "df.show()"
   ]
  },
  {
   "cell_type": "code",
   "execution_count": 5,
   "id": "e2635c76",
   "metadata": {
    "collapsed": false,
    "jupyter": {
     "outputs_hidden": false
    },
    "pycharm": {
     "name": "#%%\n"
    }
   },
   "outputs": [],
   "source": [
    "df.createOrReplaceTempView(\"records\")"
   ]
  },
  {
   "cell_type": "code",
   "execution_count": 18,
   "outputs": [],
   "source": [
    "def dump_summary():\n",
    "    return spark.sql(\"\"\"\n",
    "        SELECT CONCAT(driverID, \"+\", carPlateNumber) as `Key`,\n",
    "            COUNT(isOverspeed = 1) as `Total numbers of overspeeding accidents`,\n",
    "            COUNT(isNeutralSlide = 1) as `Total numbers of neutral slide accidents`,\n",
    "            COUNT(isFatigueDriving = 1) as `Total numbers of fatigue driving accidents`,\n",
    "            COUNT(isHthrottleStop = 1) as `Total numbers of H-throttle stop accidents`,\n",
    "            COUNT(isOilLeak = 1) as `Total numbers of oil leak accidents`,\n",
    "            COUNT(isRapidlySpeedup = 1) as `Total numbers of rapid speed up accidents`,\n",
    "            COUNT(isRapidlySlowdown = 1) as `Total numbers of rapid slow down accidents`,\n",
    "            MAX(overspeedTime) as `Max overspeeding time`,\n",
    "            SUM(overspeedTime) as `Total overspeeding time`\n",
    "        FROM records\n",
    "        GROUP BY driverID, carPlateNumber\n",
    "    \"\"\")\n",
    "\n",
    "def dump_driver_data_by_date(day: int):\n",
    "    return spark.sql(f\"\"\"\n",
    "        SELECT driverID, carPlateNumber,\n",
    "            COUNT(isOverspeed = 1) as `Total numbers of overspeeding accidents`,\n",
    "            COUNT(isNeutralSlide = 1) as `Total numbers of neutral slide accidents`,\n",
    "            COUNT(isFatigueDriving = 1) as `Total numbers of fatigue driving accidents`,\n",
    "            COUNT(isHthrottleStop = 1) as `Total numbers of H-throttle stop accidents`,\n",
    "            COUNT(isOilLeak = 1) as `Total numbers of oil leak accidents`,\n",
    "            COUNT(isRapidlySpeedup = 1) as `Total numbers of rapid speed up accidents`,\n",
    "            COUNT(isRapidlySlowdown = 1) as `Total numbers of rapid slow down accidents`,\n",
    "            MAX(overspeedTime) as `Max overspeeding time`,\n",
    "            SUM(overspeedTime) as `Total overspeeding time`\n",
    "        FROM records\n",
    "        WHERE to_date(time, \"yyyy/mm/dd\") = '2017-01-{day}'\n",
    "        GROUP BY driverID, carPlateNumber\n",
    "    \"\"\")"
   ],
   "metadata": {
    "collapsed": false,
    "pycharm": {
     "name": "#%%\n"
    }
   }
  },
  {
   "cell_type": "code",
   "execution_count": 19,
   "outputs": [
    {
     "data": {
      "text/plain": "                       Key  Total numbers of overspeeding accidents  \\\n0     zouan1000007+华A58M83                                     3181   \n1      duxu1000009+华AT75H8                                     2301   \n2    hanhui1000002+华AZI419                                     3349   \n3   panxian1000005+华AX542C                                     3531   \n4    haowei1000008+华A709GB                                     2639   \n5  shenxian1000004+华ADJ750                                     3126   \n6     likun1000003+华AVM936                                     3044   \n7  zengpeng1000000+华AZQ110                                     2763   \n8    xiezhi1000006+华A6CU11                                     2535   \n9   xiexiao1000001+华AEB132                                     2324   \n\n   Total numbers of neutral slide accidents  \\\n0                                       315   \n1                                       247   \n2                                       327   \n3                                       330   \n4                                       255   \n5                                       297   \n6                                       291   \n7                                       272   \n8                                       254   \n9                                       248   \n\n   Total numbers of fatigue driving accidents  \\\n0                                        3594   \n1                                        2814   \n2                                        3997   \n3                                        4307   \n4                                        3204   \n5                                        3767   \n6                                        3552   \n7                                        3274   \n8                                        2931   \n9                                        2720   \n\n   Total numbers of H-throttle stop accidents  \\\n0                                         389   \n1                                         264   \n2                                         433   \n3                                         417   \n4                                         312   \n5                                         383   \n6                                         347   \n7                                         284   \n8                                         312   \n9                                         314   \n\n   Total numbers of oil leak accidents  \\\n0                                  385   \n1                                  248   \n2                                  371   \n3                                  441   \n4                                  318   \n5                                  366   \n6                                  376   \n7                                  337   \n8                                  279   \n9                                  253   \n\n   Total numbers of rapid speed up accidents  \\\n0                                        360   \n1                                        238   \n2                                        401   \n3                                        395   \n4                                        321   \n5                                        374   \n6                                        341   \n7                                        340   \n8                                        255   \n9                                        264   \n\n   Total numbers of rapid slow down accidents  Max overspeeding time  \\\n0                                         385                    115   \n1                                         284                     94   \n2                                         444                     98   \n3                                         434                     96   \n4                                         314                    112   \n5                                         356                    123   \n6                                         354                    137   \n7                                         344                    105   \n8                                         310                     80   \n9                                         261                     93   \n\n   Total overspeeding time  \n0                    31248  \n1                    22338  \n2                    31813  \n3                    33946  \n4                    25522  \n5                    31494  \n6                    28728  \n7                    25479  \n8                    23942  \n9                    23434  ",
      "text/html": "<div>\n<style scoped>\n    .dataframe tbody tr th:only-of-type {\n        vertical-align: middle;\n    }\n\n    .dataframe tbody tr th {\n        vertical-align: top;\n    }\n\n    .dataframe thead th {\n        text-align: right;\n    }\n</style>\n<table border=\"1\" class=\"dataframe\">\n  <thead>\n    <tr style=\"text-align: right;\">\n      <th></th>\n      <th>Key</th>\n      <th>Total numbers of overspeeding accidents</th>\n      <th>Total numbers of neutral slide accidents</th>\n      <th>Total numbers of fatigue driving accidents</th>\n      <th>Total numbers of H-throttle stop accidents</th>\n      <th>Total numbers of oil leak accidents</th>\n      <th>Total numbers of rapid speed up accidents</th>\n      <th>Total numbers of rapid slow down accidents</th>\n      <th>Max overspeeding time</th>\n      <th>Total overspeeding time</th>\n    </tr>\n  </thead>\n  <tbody>\n    <tr>\n      <th>0</th>\n      <td>zouan1000007+华A58M83</td>\n      <td>3181</td>\n      <td>315</td>\n      <td>3594</td>\n      <td>389</td>\n      <td>385</td>\n      <td>360</td>\n      <td>385</td>\n      <td>115</td>\n      <td>31248</td>\n    </tr>\n    <tr>\n      <th>1</th>\n      <td>duxu1000009+华AT75H8</td>\n      <td>2301</td>\n      <td>247</td>\n      <td>2814</td>\n      <td>264</td>\n      <td>248</td>\n      <td>238</td>\n      <td>284</td>\n      <td>94</td>\n      <td>22338</td>\n    </tr>\n    <tr>\n      <th>2</th>\n      <td>hanhui1000002+华AZI419</td>\n      <td>3349</td>\n      <td>327</td>\n      <td>3997</td>\n      <td>433</td>\n      <td>371</td>\n      <td>401</td>\n      <td>444</td>\n      <td>98</td>\n      <td>31813</td>\n    </tr>\n    <tr>\n      <th>3</th>\n      <td>panxian1000005+华AX542C</td>\n      <td>3531</td>\n      <td>330</td>\n      <td>4307</td>\n      <td>417</td>\n      <td>441</td>\n      <td>395</td>\n      <td>434</td>\n      <td>96</td>\n      <td>33946</td>\n    </tr>\n    <tr>\n      <th>4</th>\n      <td>haowei1000008+华A709GB</td>\n      <td>2639</td>\n      <td>255</td>\n      <td>3204</td>\n      <td>312</td>\n      <td>318</td>\n      <td>321</td>\n      <td>314</td>\n      <td>112</td>\n      <td>25522</td>\n    </tr>\n    <tr>\n      <th>5</th>\n      <td>shenxian1000004+华ADJ750</td>\n      <td>3126</td>\n      <td>297</td>\n      <td>3767</td>\n      <td>383</td>\n      <td>366</td>\n      <td>374</td>\n      <td>356</td>\n      <td>123</td>\n      <td>31494</td>\n    </tr>\n    <tr>\n      <th>6</th>\n      <td>likun1000003+华AVM936</td>\n      <td>3044</td>\n      <td>291</td>\n      <td>3552</td>\n      <td>347</td>\n      <td>376</td>\n      <td>341</td>\n      <td>354</td>\n      <td>137</td>\n      <td>28728</td>\n    </tr>\n    <tr>\n      <th>7</th>\n      <td>zengpeng1000000+华AZQ110</td>\n      <td>2763</td>\n      <td>272</td>\n      <td>3274</td>\n      <td>284</td>\n      <td>337</td>\n      <td>340</td>\n      <td>344</td>\n      <td>105</td>\n      <td>25479</td>\n    </tr>\n    <tr>\n      <th>8</th>\n      <td>xiezhi1000006+华A6CU11</td>\n      <td>2535</td>\n      <td>254</td>\n      <td>2931</td>\n      <td>312</td>\n      <td>279</td>\n      <td>255</td>\n      <td>310</td>\n      <td>80</td>\n      <td>23942</td>\n    </tr>\n    <tr>\n      <th>9</th>\n      <td>xiexiao1000001+华AEB132</td>\n      <td>2324</td>\n      <td>248</td>\n      <td>2720</td>\n      <td>314</td>\n      <td>253</td>\n      <td>264</td>\n      <td>261</td>\n      <td>93</td>\n      <td>23434</td>\n    </tr>\n  </tbody>\n</table>\n</div>"
     },
     "execution_count": 19,
     "metadata": {},
     "output_type": "execute_result"
    }
   ],
   "source": [
    "summary = dump_summary()\n",
    "summary.toPandas()"
   ],
   "metadata": {
    "collapsed": false,
    "pycharm": {
     "name": "#%%\n"
    }
   }
  },
  {
   "cell_type": "code",
   "execution_count": 11,
   "outputs": [
    {
     "data": {
      "text/plain": "          driverID carPlateNumber  Total numbers of overspeeding accidents  \\\n0     zouan1000007        华A58M83                                      192   \n1      duxu1000009        华AT75H8                                      504   \n2    hanhui1000002        华AZI419                                      467   \n3   panxian1000005        华AX542C                                      219   \n4   xiexiao1000001        华AEB132                                      477   \n5    haowei1000008        华A709GB                                      107   \n6  shenxian1000004        华ADJ750                                      220   \n7     likun1000003        华AVM936                                      422   \n8  zengpeng1000000        华AZQ110                                      225   \n9    xiezhi1000006        华A6CU11                                      404   \n\n   Total numbers of neutral slide accidents  \\\n0                                        17   \n1                                        49   \n2                                        36   \n3                                        22   \n4                                        53   \n5                                         8   \n6                                        25   \n7                                        39   \n8                                        19   \n9                                        47   \n\n   Total numbers of fatigue driving accidents  \\\n0                                         224   \n1                                         570   \n2                                         564   \n3                                         264   \n4                                         580   \n5                                         113   \n6                                         262   \n7                                         462   \n8                                         283   \n9                                         497   \n\n   Total numbers of H-throttle stop accidents  \\\n0                                          19   \n1                                          49   \n2                                          59   \n3                                          18   \n4                                          61   \n5                                          15   \n6                                          28   \n7                                          49   \n8                                          17   \n9                                          54   \n\n   Total numbers of oil leak accidents  \\\n0                                   24   \n1                                   47   \n2                                   45   \n3                                   30   \n4                                   47   \n5                                   13   \n6                                   31   \n7                                   45   \n8                                   31   \n9                                   47   \n\n   Total numbers of rapid speed up accidents  \\\n0                                         17   \n1                                         42   \n2                                         60   \n3                                         19   \n4                                         48   \n5                                          8   \n6                                         31   \n7                                         46   \n8                                         30   \n9                                         41   \n\n   Total numbers of rapid slow down accidents  Max overspeeding time  \\\n0                                          27                     66   \n1                                          55                     76   \n2                                          54                     98   \n3                                          27                     59   \n4                                          44                     90   \n5                                           9                     73   \n6                                          30                     65   \n7                                          45                     83   \n8                                          29                    105   \n9                                          39                     75   \n\n   Total overspeeding time  \n0                     1810  \n1                     4836  \n2                     5324  \n3                     2194  \n4                     4866  \n5                      895  \n6                     2217  \n7                     4080  \n8                     2295  \n9                     3906  ",
      "text/html": "<div>\n<style scoped>\n    .dataframe tbody tr th:only-of-type {\n        vertical-align: middle;\n    }\n\n    .dataframe tbody tr th {\n        vertical-align: top;\n    }\n\n    .dataframe thead th {\n        text-align: right;\n    }\n</style>\n<table border=\"1\" class=\"dataframe\">\n  <thead>\n    <tr style=\"text-align: right;\">\n      <th></th>\n      <th>driverID</th>\n      <th>carPlateNumber</th>\n      <th>Total numbers of overspeeding accidents</th>\n      <th>Total numbers of neutral slide accidents</th>\n      <th>Total numbers of fatigue driving accidents</th>\n      <th>Total numbers of H-throttle stop accidents</th>\n      <th>Total numbers of oil leak accidents</th>\n      <th>Total numbers of rapid speed up accidents</th>\n      <th>Total numbers of rapid slow down accidents</th>\n      <th>Max overspeeding time</th>\n      <th>Total overspeeding time</th>\n    </tr>\n  </thead>\n  <tbody>\n    <tr>\n      <th>0</th>\n      <td>zouan1000007</td>\n      <td>华A58M83</td>\n      <td>192</td>\n      <td>17</td>\n      <td>224</td>\n      <td>19</td>\n      <td>24</td>\n      <td>17</td>\n      <td>27</td>\n      <td>66</td>\n      <td>1810</td>\n    </tr>\n    <tr>\n      <th>1</th>\n      <td>duxu1000009</td>\n      <td>华AT75H8</td>\n      <td>504</td>\n      <td>49</td>\n      <td>570</td>\n      <td>49</td>\n      <td>47</td>\n      <td>42</td>\n      <td>55</td>\n      <td>76</td>\n      <td>4836</td>\n    </tr>\n    <tr>\n      <th>2</th>\n      <td>hanhui1000002</td>\n      <td>华AZI419</td>\n      <td>467</td>\n      <td>36</td>\n      <td>564</td>\n      <td>59</td>\n      <td>45</td>\n      <td>60</td>\n      <td>54</td>\n      <td>98</td>\n      <td>5324</td>\n    </tr>\n    <tr>\n      <th>3</th>\n      <td>panxian1000005</td>\n      <td>华AX542C</td>\n      <td>219</td>\n      <td>22</td>\n      <td>264</td>\n      <td>18</td>\n      <td>30</td>\n      <td>19</td>\n      <td>27</td>\n      <td>59</td>\n      <td>2194</td>\n    </tr>\n    <tr>\n      <th>4</th>\n      <td>xiexiao1000001</td>\n      <td>华AEB132</td>\n      <td>477</td>\n      <td>53</td>\n      <td>580</td>\n      <td>61</td>\n      <td>47</td>\n      <td>48</td>\n      <td>44</td>\n      <td>90</td>\n      <td>4866</td>\n    </tr>\n    <tr>\n      <th>5</th>\n      <td>haowei1000008</td>\n      <td>华A709GB</td>\n      <td>107</td>\n      <td>8</td>\n      <td>113</td>\n      <td>15</td>\n      <td>13</td>\n      <td>8</td>\n      <td>9</td>\n      <td>73</td>\n      <td>895</td>\n    </tr>\n    <tr>\n      <th>6</th>\n      <td>shenxian1000004</td>\n      <td>华ADJ750</td>\n      <td>220</td>\n      <td>25</td>\n      <td>262</td>\n      <td>28</td>\n      <td>31</td>\n      <td>31</td>\n      <td>30</td>\n      <td>65</td>\n      <td>2217</td>\n    </tr>\n    <tr>\n      <th>7</th>\n      <td>likun1000003</td>\n      <td>华AVM936</td>\n      <td>422</td>\n      <td>39</td>\n      <td>462</td>\n      <td>49</td>\n      <td>45</td>\n      <td>46</td>\n      <td>45</td>\n      <td>83</td>\n      <td>4080</td>\n    </tr>\n    <tr>\n      <th>8</th>\n      <td>zengpeng1000000</td>\n      <td>华AZQ110</td>\n      <td>225</td>\n      <td>19</td>\n      <td>283</td>\n      <td>17</td>\n      <td>31</td>\n      <td>30</td>\n      <td>29</td>\n      <td>105</td>\n      <td>2295</td>\n    </tr>\n    <tr>\n      <th>9</th>\n      <td>xiezhi1000006</td>\n      <td>华A6CU11</td>\n      <td>404</td>\n      <td>47</td>\n      <td>497</td>\n      <td>54</td>\n      <td>47</td>\n      <td>41</td>\n      <td>39</td>\n      <td>75</td>\n      <td>3906</td>\n    </tr>\n  </tbody>\n</table>\n</div>"
     },
     "execution_count": 11,
     "metadata": {},
     "output_type": "execute_result"
    }
   ],
   "source": [
    "day1 = dump_driver_data_by_date(1)\n",
    "day1.toPandas()"
   ],
   "metadata": {
    "collapsed": false,
    "pycharm": {
     "name": "#%%\n"
    }
   }
  }
 ],
 "metadata": {
  "kernelspec": {
   "display_name": "Python 3 (ipykernel)",
   "language": "python",
   "name": "python3"
  },
  "language_info": {
   "codemirror_mode": {
    "name": "ipython",
    "version": 3
   },
   "file_extension": ".py",
   "mimetype": "text/x-python",
   "name": "python",
   "nbconvert_exporter": "python",
   "pygments_lexer": "ipython3",
   "version": "3.9.10"
  }
 },
 "nbformat": 4,
 "nbformat_minor": 5
}